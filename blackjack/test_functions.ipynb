{
 "cells": [
  {
   "cell_type": "code",
   "execution_count": 1,
   "metadata": {
    "collapsed": true
   },
   "outputs": [],
   "source": [
    "import blackjack.blackjack"
   ]
  },
  {
   "cell_type": "code",
   "execution_count": 2,
   "metadata": {
    "collapsed": false
   },
   "outputs": [],
   "source": [
    "player = blackjack.blackjack.Blackjack()"
   ]
  },
  {
   "cell_type": "code",
   "execution_count": 3,
   "metadata": {
    "collapsed": false
   },
   "outputs": [
    {
     "data": {
      "text/plain": [
       "['7♣',\n",
       " '8♥',\n",
       " 'A♠',\n",
       " '4♣',\n",
       " '6♣',\n",
       " '8♦',\n",
       " 'J♣',\n",
       " '7♠',\n",
       " '5♠',\n",
       " 'K♣',\n",
       " 'Q♠',\n",
       " 'K♠',\n",
       " 'A♦',\n",
       " '8♠',\n",
       " '10♣',\n",
       " 'J♥',\n",
       " '9♣',\n",
       " 'Q♣',\n",
       " '7♥',\n",
       " '10♥',\n",
       " '9♠',\n",
       " '9♥',\n",
       " '6♦',\n",
       " '5♥',\n",
       " 'K♥',\n",
       " '3♠',\n",
       " '3♥',\n",
       " 'J♦',\n",
       " '4♠',\n",
       " '2♥',\n",
       " '3♣',\n",
       " 'A♣',\n",
       " 'Q♥',\n",
       " 'K♦',\n",
       " '2♦',\n",
       " 'Q♦',\n",
       " 'J♠',\n",
       " '4♥',\n",
       " '2♠',\n",
       " '9♦',\n",
       " '6♠',\n",
       " '10♦',\n",
       " '5♣',\n",
       " '8♣',\n",
       " '10♠',\n",
       " 'A♥',\n",
       " '5♦',\n",
       " '2♣',\n",
       " '3♦',\n",
       " '7♦',\n",
       " '6♥',\n",
       " '4♦']"
      ]
     },
     "execution_count": 3,
     "metadata": {},
     "output_type": "execute_result"
    }
   ],
   "source": [
    "player.creat_deck()\n",
    "player.decks"
   ]
  },
  {
   "cell_type": "code",
   "execution_count": 4,
   "metadata": {
    "collapsed": false
   },
   "outputs": [
    {
     "data": {
      "text/plain": [
       "1700.0"
      ]
     },
     "execution_count": 4,
     "metadata": {},
     "output_type": "execute_result"
    }
   ],
   "source": [
    "player.bet(100,3)"
   ]
  },
  {
   "cell_type": "code",
   "execution_count": 6,
   "metadata": {
    "collapsed": false
   },
   "outputs": [
    {
     "data": {
      "text/plain": [
       "(['6♣', 'J♣'], ['8♦', '7♠'])"
      ]
     },
     "execution_count": 6,
     "metadata": {},
     "output_type": "execute_result"
    }
   ],
   "source": [
    "player.play()\n",
    "hand, house"
   ]
  },
  {
   "cell_type": "code",
   "execution_count": 7,
   "metadata": {
    "collapsed": false
   },
   "outputs": [
    {
     "data": {
      "text/plain": [
       "16"
      ]
     },
     "execution_count": 7,
     "metadata": {},
     "output_type": "execute_result"
    }
   ],
   "source": [
    "player.show_points(player.hand)\n",
    "['6♣', 'J♣']"
   ]
  },
  {
   "cell_type": "code",
   "execution_count": 8,
   "metadata": {
    "collapsed": false
   },
   "outputs": [
    {
     "data": {
      "text/plain": [
       "15"
      ]
     },
     "execution_count": 8,
     "metadata": {},
     "output_type": "execute_result"
    }
   ],
   "source": [
    "player.show_points(player.house)\n",
    "['8♦', '7♠']"
   ]
  },
  {
   "cell_type": "code",
   "execution_count": 9,
   "metadata": {
    "collapsed": false
   },
   "outputs": [
    {
     "data": {
      "text/plain": [
       "['6♣', 'J♣', '5♠']"
      ]
     },
     "execution_count": 9,
     "metadata": {},
     "output_type": "execute_result"
    }
   ],
   "source": [
    "player.hit()"
   ]
  },
  {
   "cell_type": "code",
   "execution_count": 10,
   "metadata": {
    "collapsed": false
   },
   "outputs": [
    {
     "data": {
      "text/plain": [
       "21"
      ]
     },
     "execution_count": 10,
     "metadata": {},
     "output_type": "execute_result"
    }
   ],
   "source": [
    "player.show_points(player.hand)\n",
    "['6♣', 'J♣', '5♠']"
   ]
  },
  {
   "cell_type": "code",
   "execution_count": 11,
   "metadata": {
    "collapsed": false
   },
   "outputs": [
    {
     "data": {
      "text/plain": [
       "['8♦', '7♠', 'K♣']"
      ]
     },
     "execution_count": 11,
     "metadata": {},
     "output_type": "execute_result"
    }
   ],
   "source": [
    "player.hit_house()"
   ]
  },
  {
   "cell_type": "code",
   "execution_count": 12,
   "metadata": {
    "collapsed": false
   },
   "outputs": [
    {
     "data": {
      "text/plain": [
       "25"
      ]
     },
     "execution_count": 12,
     "metadata": {},
     "output_type": "execute_result"
    }
   ],
   "source": [
    "player.show_points(player.house)\n",
    "['8♦', '7♠', 'K♣']"
   ]
  }
 ],
 "metadata": {
  "kernelspec": {
   "display_name": "Python 3",
   "language": "python",
   "name": "python3"
  },
  "language_info": {
   "codemirror_mode": {
    "name": "ipython",
    "version": 3
   },
   "file_extension": ".py",
   "mimetype": "text/x-python",
   "name": "python",
   "nbconvert_exporter": "python",
   "pygments_lexer": "ipython3",
   "version": "3.6.0"
  }
 },
 "nbformat": 4,
 "nbformat_minor": 2
}
